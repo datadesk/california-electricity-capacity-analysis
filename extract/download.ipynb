{
 "cells": [
  {
   "cell_type": "markdown",
   "metadata": {},
   "source": [
    "# Step 1: Download\n",
    "\n",
    "Downloads and extracts data from [the U.S. Energy Information Administration](http://www.eia.gov/electricity/data.cfm) for analysis.                                      \n",
    "\n",
    "* Annual capacity totals by state\n",
    "* Yearly detailed capacity data by plant generator\n",
    "* Annual revenue totals by state\n",
    "* Annual prices by state\n",
    "* Annual sales totals by state\n",
    "* Annual customer totals by state\n",
    "* Yearly detailed generation totals by plant generator"
   ]
  },
  {
   "cell_type": "markdown",
   "metadata": {},
   "source": [
    "## Download all files"
   ]
  },
  {
   "cell_type": "code",
   "execution_count": 1,
   "metadata": {},
   "outputs": [],
   "source": [
    "import os\n",
    "import settings"
   ]
  },
  {
   "cell_type": "code",
   "execution_count": 2,
   "metadata": {},
   "outputs": [
    {
     "data": {
      "text/plain": [
       "True"
      ]
     },
     "execution_count": 2,
     "metadata": {},
     "output_type": "execute_result"
    }
   ],
   "source": [
    "os.path.exists(settings.download_dir) or os.mkdir(settings.download_dir)"
   ]
  },
  {
   "cell_type": "markdown",
   "metadata": {},
   "source": [
    "Annual capacity totals by state ([Source](http://www.eia.gov/electricity/data.cfm#gencapacity))"
   ]
  },
  {
   "cell_type": "code",
   "execution_count": 3,
   "metadata": {},
   "outputs": [
    {
     "name": "stdout",
     "output_type": "stream",
     "text": [
      "File `/home/ben/Code/california-electricity-capacity-analysis/data/input/existcapacity_annual.xlsx' already there; not retrieving.\r\n"
     ]
    }
   ],
   "source": [
    "!wget -O $settings.download_dir/existcapacity_annual.xlsx -nc http://www.eia.gov/electricity/data/state/existcapacity_annual.xls"
   ]
  },
  {
   "cell_type": "markdown",
   "metadata": {},
   "source": [
    "Yearly detailed capacity data by plant generator ([Source](http://www.eia.gov/electricity/data/eia860/))"
   ]
  },
  {
   "cell_type": "code",
   "execution_count": 4,
   "metadata": {},
   "outputs": [
    {
     "name": "stdout",
     "output_type": "stream",
     "text": [
      "File `/home/ben/Code/california-electricity-capacity-analysis/data/input/eia8602015.zip' already there; not retrieving.\r\n",
      "File `/home/ben/Code/california-electricity-capacity-analysis/data/input/eia8602014.zip' already there; not retrieving.\r\n",
      "File `/home/ben/Code/california-electricity-capacity-analysis/data/input/eia8602013.zip' already there; not retrieving.\r\n",
      "File `/home/ben/Code/california-electricity-capacity-analysis/data/input/eia8602012.zip' already there; not retrieving.\r\n",
      "File `/home/ben/Code/california-electricity-capacity-analysis/data/input/eia8602011.zip' already there; not retrieving.\r\n",
      "File `/home/ben/Code/california-electricity-capacity-analysis/data/input/eia8602010.zip' already there; not retrieving.\r\n",
      "File `/home/ben/Code/california-electricity-capacity-analysis/data/input/eia8602009.zip' already there; not retrieving.\r\n",
      "File `/home/ben/Code/california-electricity-capacity-analysis/data/input/eia8602008.zip' already there; not retrieving.\r\n",
      "File `/home/ben/Code/california-electricity-capacity-analysis/data/input/eia8602007.zip' already there; not retrieving.\r\n",
      "File `/home/ben/Code/california-electricity-capacity-analysis/data/input/eia8602006.zip' already there; not retrieving.\r\n",
      "File `/home/ben/Code/california-electricity-capacity-analysis/data/input/eia8602005.zip' already there; not retrieving.\r\n",
      "File `/home/ben/Code/california-electricity-capacity-analysis/data/input/eia8602004.zip' already there; not retrieving.\r\n",
      "File `/home/ben/Code/california-electricity-capacity-analysis/data/input/eia8602003.zip' already there; not retrieving.\r\n",
      "File `/home/ben/Code/california-electricity-capacity-analysis/data/input/eia8602002.zip' already there; not retrieving.\r\n",
      "File `/home/ben/Code/california-electricity-capacity-analysis/data/input/eia8602001.zip' already there; not retrieving.\r\n"
     ]
    }
   ],
   "source": [
    "!wget -O $settings.download_dir/eia8602015.zip -nc https://www.eia.gov/electricity/data/eia860/xls/eia8602015.zip\n",
    "!wget -O $settings.download_dir/eia8602014.zip -nc https://www.eia.gov/electricity/data/eia860/xls/eia8602014.zip\n",
    "!wget -O $settings.download_dir/eia8602013.zip -nc https://www.eia.gov/electricity/data/eia860/xls/eia8602013.zip\n",
    "!wget -O $settings.download_dir/eia8602012.zip -nc https://www.eia.gov/electricity/data/eia860/xls/eia8602012.zip\n",
    "!wget -O $settings.download_dir/eia8602011.zip -nc https://www.eia.gov/electricity/data/eia860/xls/eia8602011.zip\n",
    "!wget -O $settings.download_dir/eia8602010.zip -nc https://www.eia.gov/electricity/data/eia860/xls/eia8602010.zip\n",
    "!wget -O $settings.download_dir/eia8602009.zip -nc https://www.eia.gov/electricity/data/eia860/xls/eia8602009.zip\n",
    "!wget -O $settings.download_dir/eia8602008.zip -nc https://www.eia.gov/electricity/data/eia860/xls/eia8602008.zip\n",
    "!wget -O $settings.download_dir/eia8602007.zip -nc https://www.eia.gov/electricity/data/eia860/xls/eia8602007.zip\n",
    "!wget -O $settings.download_dir/eia8602006.zip -nc https://www.eia.gov/electricity/data/eia860/xls/eia8602006.zip\n",
    "!wget -O $settings.download_dir/eia8602005.zip -nc https://www.eia.gov/electricity/data/eia860/xls/eia8602005.zip\n",
    "!wget -O $settings.download_dir/eia8602004.zip -nc https://www.eia.gov/electricity/data/eia860/xls/eia8602004.zip\n",
    "!wget -O $settings.download_dir/eia8602003.zip -nc https://www.eia.gov/electricity/data/eia860/xls/eia8602003.zip\n",
    "!wget -O $settings.download_dir/eia8602002.zip -nc https://www.eia.gov/electricity/data/eia860/xls/eia8602002.zip\n",
    "!wget -O $settings.download_dir/eia8602001.zip -nc https://www.eia.gov/electricity/data/eia860/xls/eia8602001.zip"
   ]
  },
  {
   "cell_type": "markdown",
   "metadata": {},
   "source": [
    "Annual revenue totals by state ([Source](http://www.eia.gov/electricity/data.cfm#sales))"
   ]
  },
  {
   "cell_type": "code",
   "execution_count": 5,
   "metadata": {},
   "outputs": [
    {
     "name": "stdout",
     "output_type": "stream",
     "text": [
      "File `/home/ben/Code/california-electricity-capacity-analysis/data/input/revenue_annual.xlsx' already there; not retrieving.\r\n"
     ]
    }
   ],
   "source": [
    "!wget -O $settings.download_dir/revenue_annual.xlsx -nc http://www.eia.gov/electricity/data/state/revenue_annual.xlsx"
   ]
  },
  {
   "cell_type": "markdown",
   "metadata": {},
   "source": [
    "Annual prices by state"
   ]
  },
  {
   "cell_type": "code",
   "execution_count": 6,
   "metadata": {},
   "outputs": [
    {
     "name": "stdout",
     "output_type": "stream",
     "text": [
      "File `/home/ben/Code/california-electricity-capacity-analysis/data/input/avgprice_annual.xlsx' already there; not retrieving.\r\n"
     ]
    }
   ],
   "source": [
    "!wget -O $settings.download_dir/avgprice_annual.xlsx -nc http://www.eia.gov/electricity/data/state/avgprice_annual.xlsx"
   ]
  },
  {
   "cell_type": "markdown",
   "metadata": {},
   "source": [
    "Annual sales totals by state ([Source](http://www.eia.gov/electricity/data.cfm#sales))"
   ]
  },
  {
   "cell_type": "code",
   "execution_count": 7,
   "metadata": {},
   "outputs": [
    {
     "name": "stdout",
     "output_type": "stream",
     "text": [
      "File `/home/ben/Code/california-electricity-capacity-analysis/data/input/sales_annual.xlsx' already there; not retrieving.\r\n"
     ]
    }
   ],
   "source": [
    "!wget -O $settings.download_dir/sales_annual.xlsx -nc http://www.eia.gov/electricity/data/state/sales_annual.xlsx"
   ]
  },
  {
   "cell_type": "markdown",
   "metadata": {},
   "source": [
    "Annual customer totals by state ([Source](http://www.eia.gov/electricity/data.cfm#sales))"
   ]
  },
  {
   "cell_type": "code",
   "execution_count": 8,
   "metadata": {},
   "outputs": [
    {
     "name": "stdout",
     "output_type": "stream",
     "text": [
      "File `/home/ben/Code/california-electricity-capacity-analysis/data/input/customers_annual.xlsx' already there; not retrieving.\r\n"
     ]
    }
   ],
   "source": [
    "!wget -O $settings.download_dir/customers_annual.xlsx -nc http://www.eia.gov/electricity/data/state/customers_annual.xlsx"
   ]
  },
  {
   "cell_type": "markdown",
   "metadata": {},
   "source": [
    "Yearly detailed generation totals by plant generator ([Source](https://www.eia.gov/electricity/data/eia923/))"
   ]
  },
  {
   "cell_type": "code",
   "execution_count": 9,
   "metadata": {},
   "outputs": [
    {
     "name": "stdout",
     "output_type": "stream",
     "text": [
      "File `/home/ben/Code/california-electricity-capacity-analysis/data/input/f923_2015.zip' already there; not retrieving.\r\n",
      "File `/home/ben/Code/california-electricity-capacity-analysis/data/input/f923_2014.zip' already there; not retrieving.\r\n",
      "File `/home/ben/Code/california-electricity-capacity-analysis/data/input/f923_2013.zip' already there; not retrieving.\r\n",
      "File `/home/ben/Code/california-electricity-capacity-analysis/data/input/f923_2012.zip' already there; not retrieving.\r\n",
      "File `/home/ben/Code/california-electricity-capacity-analysis/data/input/f923_2011.zip' already there; not retrieving.\r\n",
      "File `/home/ben/Code/california-electricity-capacity-analysis/data/input/f923_2010.zip' already there; not retrieving.\r\n",
      "File `/home/ben/Code/california-electricity-capacity-analysis/data/input/f923_2009.zip' already there; not retrieving.\r\n",
      "File `/home/ben/Code/california-electricity-capacity-analysis/data/input/f923_2008.zip' already there; not retrieving.\r\n",
      "File `/home/ben/Code/california-electricity-capacity-analysis/data/input/f923_2007.zip' already there; not retrieving.\r\n",
      "File `/home/ben/Code/california-electricity-capacity-analysis/data/input/f923_2006.zip' already there; not retrieving.\r\n",
      "File `/home/ben/Code/california-electricity-capacity-analysis/data/input/f923_2005.zip' already there; not retrieving.\r\n",
      "File `/home/ben/Code/california-electricity-capacity-analysis/data/input/f923_2004.zip' already there; not retrieving.\r\n",
      "File `/home/ben/Code/california-electricity-capacity-analysis/data/input/f923_2003.zip' already there; not retrieving.\r\n",
      "File `/home/ben/Code/california-electricity-capacity-analysis/data/input/f923_2002.zip' already there; not retrieving.\r\n",
      "File `/home/ben/Code/california-electricity-capacity-analysis/data/input/f923_2001.zip' already there; not retrieving.\r\n"
     ]
    }
   ],
   "source": [
    "!wget -O $settings.download_dir/f923_2015.zip -nc https://www.eia.gov/electricity/data/eia923/xls/f923_2015.zip\n",
    "!wget -O $settings.download_dir/f923_2014.zip -nc https://www.eia.gov/electricity/data/eia923/xls/f923_2014.zip\n",
    "!wget -O $settings.download_dir/f923_2013.zip -nc https://www.eia.gov/electricity/data/eia923/xls/f923_2013.zip\n",
    "!wget -O $settings.download_dir/f923_2012.zip -nc https://www.eia.gov/electricity/data/eia923/xls/f923_2012.zip\n",
    "!wget -O $settings.download_dir/f923_2011.zip -nc https://www.eia.gov/electricity/data/eia923/xls/f923_2011.zip\n",
    "!wget -O $settings.download_dir/f923_2010.zip -nc https://www.eia.gov/electricity/data/eia923/xls/f923_2010.zip\n",
    "!wget -O $settings.download_dir/f923_2009.zip -nc https://www.eia.gov/electricity/data/eia923/xls/f923_2009.zip\n",
    "!wget -O $settings.download_dir/f923_2008.zip -nc https://www.eia.gov/electricity/data/eia923/xls/f923_2008.zip\n",
    "!wget -O $settings.download_dir/f923_2007.zip -nc https://www.eia.gov/electricity/data/eia923/xls/f906920_2007.zip\n",
    "!wget -O $settings.download_dir/f923_2006.zip -nc https://www.eia.gov/electricity/data/eia923/xls/f906920_2006.zip\n",
    "!wget -O $settings.download_dir/f923_2005.zip -nc https://www.eia.gov/electricity/data/eia923/xls/f906920_2005.zip\n",
    "!wget -O $settings.download_dir/f923_2004.zip -nc https://www.eia.gov/electricity/data/eia923/xls/f906920_2004.zip\n",
    "!wget -O $settings.download_dir/f923_2003.zip -nc https://www.eia.gov/electricity/data/eia923/xls/f906920_2003.zip\n",
    "!wget -O $settings.download_dir/f923_2002.zip -nc https://www.eia.gov/electricity/data/eia923/xls/f906920_2002.zip\n",
    "!wget -O $settings.download_dir/f923_2001.zip -nc https://www.eia.gov/electricity/data/eia923/xls/f906920_2001.zip"
   ]
  },
  {
   "cell_type": "markdown",
   "metadata": {},
   "source": [
    "## Unzip all files"
   ]
  },
  {
   "cell_type": "code",
   "execution_count": 10,
   "metadata": {},
   "outputs": [
    {
     "name": "stdout",
     "output_type": "stream",
     "text": [
      "Archive:  /home/ben/Code/california-electricity-capacity-analysis/data/input/f923_2005.zip\r\n",
      "\r\n",
      "Archive:  /home/ben/Code/california-electricity-capacity-analysis/data/input/f923_2011.zip\r\n",
      "\r\n",
      "Archive:  /home/ben/Code/california-electricity-capacity-analysis/data/input/eia8602004.zip\r\n",
      "\r\n",
      "Archive:  /home/ben/Code/california-electricity-capacity-analysis/data/input/eia8602006.zip\r\n",
      "\r\n",
      "Archive:  /home/ben/Code/california-electricity-capacity-analysis/data/input/f923_2001.zip\r\n",
      "\r\n",
      "Archive:  /home/ben/Code/california-electricity-capacity-analysis/data/input/eia8602008.zip\r\n",
      "\r\n",
      "Archive:  /home/ben/Code/california-electricity-capacity-analysis/data/input/f923_2006.zip\r\n",
      "\r\n",
      "Archive:  /home/ben/Code/california-electricity-capacity-analysis/data/input/eia8602013.zip\r\n",
      "\r\n",
      "Archive:  /home/ben/Code/california-electricity-capacity-analysis/data/input/f923_2015.zip\r\n",
      "\r\n",
      "Archive:  /home/ben/Code/california-electricity-capacity-analysis/data/input/f923_2003.zip\r\n",
      "\r\n",
      "Archive:  /home/ben/Code/california-electricity-capacity-analysis/data/input/f923_2013.zip\r\n",
      "\r\n",
      "Archive:  /home/ben/Code/california-electricity-capacity-analysis/data/input/eia8602009.zip\r\n",
      "\r\n",
      "Archive:  /home/ben/Code/california-electricity-capacity-analysis/data/input/f923_2008.zip\r\n",
      "\r\n",
      "Archive:  /home/ben/Code/california-electricity-capacity-analysis/data/input/eia8602007.zip\r\n",
      "\r\n",
      "Archive:  /home/ben/Code/california-electricity-capacity-analysis/data/input/f923_2007.zip\r\n",
      "\r\n",
      "Archive:  /home/ben/Code/california-electricity-capacity-analysis/data/input/eia8602010.zip\r\n",
      "\r\n",
      "Archive:  /home/ben/Code/california-electricity-capacity-analysis/data/input/eia8602011.zip\r\n",
      "\r\n",
      "Archive:  /home/ben/Code/california-electricity-capacity-analysis/data/input/f923_2012.zip\r\n",
      "\r\n",
      "Archive:  /home/ben/Code/california-electricity-capacity-analysis/data/input/f923_2009.zip\r\n",
      "\r\n",
      "Archive:  /home/ben/Code/california-electricity-capacity-analysis/data/input/eia8602003.zip\r\n",
      "\r\n",
      "Archive:  /home/ben/Code/california-electricity-capacity-analysis/data/input/f923_2010.zip\r\n",
      "\r\n",
      "Archive:  /home/ben/Code/california-electricity-capacity-analysis/data/input/eia8602014.zip\r\n",
      "\r\n",
      "Archive:  /home/ben/Code/california-electricity-capacity-analysis/data/input/f923_2004.zip\r\n",
      "\r\n",
      "Archive:  /home/ben/Code/california-electricity-capacity-analysis/data/input/eia8602015.zip\r\n",
      "\r\n",
      "Archive:  /home/ben/Code/california-electricity-capacity-analysis/data/input/eia8602002.zip\r\n",
      "\r\n",
      "Archive:  /home/ben/Code/california-electricity-capacity-analysis/data/input/eia8602001.zip\r\n",
      "\r\n",
      "Archive:  /home/ben/Code/california-electricity-capacity-analysis/data/input/f923_2002.zip\r\n",
      "\r\n",
      "Archive:  /home/ben/Code/california-electricity-capacity-analysis/data/input/f923_2014.zip\r\n",
      "\r\n",
      "Archive:  /home/ben/Code/california-electricity-capacity-analysis/data/input/eia8602005.zip\r\n",
      "\r\n",
      "Archive:  /home/ben/Code/california-electricity-capacity-analysis/data/input/eia8602012.zip\r\n",
      "\r\n",
      "30 archives were successfully processed.\r\n"
     ]
    }
   ],
   "source": [
    "!unzip -n $settings.download_dir/\\*.zip -d $settings.download_dir/"
   ]
  }
 ],
 "metadata": {
  "kernelspec": {
   "display_name": "Python 2",
   "language": "python",
   "name": "python2"
  },
  "language_info": {
   "codemirror_mode": {
    "name": "ipython",
    "version": 2
   },
   "file_extension": ".py",
   "mimetype": "text/x-python",
   "name": "python",
   "nbconvert_exporter": "python",
   "pygments_lexer": "ipython2",
   "version": "2.7.12+"
  }
 },
 "nbformat": 4,
 "nbformat_minor": 2
}
