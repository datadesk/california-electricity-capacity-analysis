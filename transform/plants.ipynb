{
 "cells": [
  {
   "cell_type": "markdown",
   "metadata": {},
   "source": [
    "# Transforming plant utilization data\n",
    "\n",
    "Combines generation and capacity data for California plants for each year dating back to 2001. Generates a utilization percentage for each plant by combining values from the two data sets."
   ]
  },
  {
   "cell_type": "code",
   "execution_count": 1,
   "metadata": {},
   "outputs": [
    {
     "name": "stdout",
     "output_type": "stream",
     "text": [
      "SQLalchemy is not installed. No support for SQL output.\n"
     ]
    }
   ],
   "source": [
    "import os\n",
    "import settings\n",
    "import pandas as pd\n",
    "from simpledbf import Dbf5"
   ]
  },
  {
   "cell_type": "code",
   "execution_count": 2,
   "metadata": {},
   "outputs": [],
   "source": [
    "pd.options.mode.chained_assignment = None"
   ]
  },
  {
   "cell_type": "markdown",
   "metadata": {},
   "source": [
    "## Generation"
   ]
  },
  {
   "cell_type": "markdown",
   "metadata": {},
   "source": [
    "List all the files to load with their pandas configuration"
   ]
  },
  {
   "cell_type": "code",
   "execution_count": 3,
   "metadata": {},
   "outputs": [],
   "source": [
    "gen_file_list = [\n",
    "    dict(path=\"f906920y2001.xls\", skiprows=7, year=2001, columns=[\"Plant ID\", \"Plant Name\", \"Operator Name\", \"Operator ID\", \"NET GENERATION (megawatthours)\"]),\n",
    "    dict(path=\"f906920y2002.xls\", skiprows=7, year=2002, columns=[\"Plant ID\", \"Plant Name\", \"Operator Name\", \"Operator ID\", \"NET GENERATION (megawatthours)\"]),\n",
    "    dict(path=\"f906920_2003.xls\", skiprows=7, year=2003, columns=[\"Plant ID\", \"Plant Name\", \"Operator Name\", \"Operator ID\", \"NET GENERATION (megawatthours)\"]),\n",
    "    dict(path=\"f906920_2004.xls\", skiprows=7, year=2004, columns=[\"Plant ID\", \"Plant Name\", \"Operator Name\", \"Operator ID\", \"NET GENERATION (megawatthours)\"]),\n",
    "    dict(path=\"f906920_2005.xls\", skiprows=7, year=2005, columns=[\"Plant ID\", \"Plant Name\", \"Operator Name\", \"Operator ID\", \"NET GENERATION (megawatthours)\"]),\n",
    "    dict(path=\"f906920_2006.xls\", skiprows=7, year=2006, columns=[\"Plant ID\", \"Plant Name\", \"Operator Name\", \"Operator ID\", \"NET GENERATION (megawatthours)\"]),\n",
    "    dict(path=\"f906920_2007.xls\", skiprows=7, year=2007, columns=[\"Plant ID\", \"Plant Name\", \"Operator Name\", \"Operator ID\", \"NET GENERATION (megawatthours)\"]),\n",
    "    dict(path=\"eia923December2008.xls\", skiprows=7, year=2008, columns=[\"Plant ID\", \"Plant Name\", \"Operator Name\", \"Operator ID\", \"NET GENERATION (megawatthours)\"]),\n",
    "    dict(path='EIA923 SCHEDULES 2_3_4_5 M Final 2009 REVISED 05252011.XLS', skiprows=7, year=2009, columns=[\"Plant ID\", \"Plant Name\", \"Operator Name\", \"Operator ID\", \"NET GENERATION (megawatthours)\"]),\n",
    "    dict(path='EIA923 SCHEDULES 2_3_4_5 Final 2010.xls', skiprows=7, year=2010, columns=[\"Plant ID\", \"Plant Name\", \"Operator Name\", \"Operator ID\", \"NET GENERATION (megawatthours)\"]),\n",
    "    dict(path='EIA923_Schedules_2_3_4_5_2011_Final_Revision.xlsx', skiprows=5, year=2011, columns=[\"Plant Id\", \"Plant Name\", \"Operator Name\", \"Operator Id\", 'Net Generation (Megawatthours)']),\n",
    "    dict(path='EIA923_Schedules_2_3_4_5_M_12_2012_Final_Revision.xlsx', skiprows=5, year=2012, columns=[\"Plant Id\", \"Plant Name\", \"Operator Name\", \"Operator Id\", 'Net Generation\\n(Megawatthours)']),\n",
    "    dict(path='EIA923_Schedules_2_3_4_5_2013_Final_Revision.xlsx', skiprows=5, year=2013, columns=[\"Plant Id\", \"Plant Name\", \"Operator Name\", \"Operator Id\", 'Net Generation (Megawatthours)']),\n",
    "    dict(path='EIA923_Schedules_2_3_4_5_M_12_2014_Final_Revision.xlsx', skiprows=5, year=2014, columns=[\"Plant Id\", \"Plant Name\", \"Operator Name\", \"Operator Id\", 'Net Generation\\n(Megawatthours)']),\n",
    "    dict(path='EIA923_Schedules_2_3_4_5_M_12_2015_Final_Revision.xlsx', skiprows=5, year=2015, columns=[\"Plant Id\", \"Plant Name\", \"Operator Name\", \"Operator Id\", 'Net Generation\\n(Megawatthours)']),\n",
    "]"
   ]
  },
  {
   "cell_type": "markdown",
   "metadata": {},
   "source": [
    "Open all of the files and join them"
   ]
  },
  {
   "cell_type": "code",
   "execution_count": 20,
   "metadata": {},
   "outputs": [],
   "source": [
    "gen_columns = [\n",
    "    'plant_id',\n",
    "    'plant_name',\n",
    "    'operator_name',\n",
    "    'operator_id',\n",
    "    'net_generation_mwh',\n",
    "    'year',\n",
    "]"
   ]
  },
  {
   "cell_type": "code",
   "execution_count": 21,
   "metadata": {},
   "outputs": [],
   "source": [
    "def standardize_generation(**kwargs):\n",
    "    \"\"\"\n",
    "    Standardizes the given generation file to a common set of fields.\n",
    "    \n",
    "    Returns a DataFrame.\n",
    "    \"\"\"   \n",
    "    # Read in the file\n",
    "    df = pd.read_excel(\n",
    "        os.path.join(settings.input_dir, kwargs['path']),\n",
    "        sheetname='Page 1 Generation and Fuel Data',\n",
    "        skiprows=kwargs['skiprows']\n",
    "    )\n",
    "\n",
    "    # Pluck the columns we want\n",
    "    trimmed_df = df[kwargs['columns']]\n",
    "\n",
    "    # Add the year of the source\n",
    "    trimmed_df['year'] = kwargs['year']\n",
    "    \n",
    "    # Clean up header names\n",
    "    trimmed_df.columns = gen_columns\n",
    "\n",
    "    # Return the polished dataframe\n",
    "    return trimmed_df"
   ]
  },
  {
   "cell_type": "markdown",
   "metadata": {},
   "source": [
    "Create an empty DataFrame"
   ]
  },
  {
   "cell_type": "code",
   "execution_count": 22,
   "metadata": {},
   "outputs": [],
   "source": [
    "gen_df = pd.DataFrame(columns=gen_columns)"
   ]
  },
  {
   "cell_type": "markdown",
   "metadata": {},
   "source": [
    "Load all the source files in"
   ]
  },
  {
   "cell_type": "code",
   "execution_count": 23,
   "metadata": {},
   "outputs": [
    {
     "name": "stdout",
     "output_type": "stream",
     "text": [
      "Standardizing 2001\n",
      "Standardizing 2002\n",
      "Standardizing 2003\n",
      "Standardizing 2004\n",
      "Standardizing 2005\n",
      "Standardizing 2006\n",
      "Standardizing 2007\n",
      "Standardizing 2008\n",
      "Standardizing 2009\n",
      "Standardizing 2010\n",
      "Standardizing 2011\n",
      "Standardizing 2012\n",
      "Standardizing 2013\n",
      "Standardizing 2014\n",
      "Standardizing 2015\n"
     ]
    }
   ],
   "source": [
    "for d in gen_file_list:\n",
    "    print \"Standardizing {}\".format(d['year'])\n",
    "    gen_df = gen_df.append(standardize_generation(**d))"
   ]
  },
  {
   "cell_type": "markdown",
   "metadata": {},
   "source": [
    "Group the data by generator to reduce it to one row per plants"
   ]
  },
  {
   "cell_type": "code",
   "execution_count": 25,
   "metadata": {},
   "outputs": [],
   "source": [
    "plant_gen_df = gen_df.groupby([\n",
    "    \"year\",\n",
    "    \"plant_id\",\n",
    "    'plant_name',\n",
    "    'operator_name',\n",
    "    \"operator_id\"\n",
    "])['net_generation_mwh'].sum().reset_index()"
   ]
  },
  {
   "cell_type": "markdown",
   "metadata": {},
   "source": [
    "## Capacity"
   ]
  },
  {
   "cell_type": "markdown",
   "metadata": {},
   "source": [
    "List the capacity source files and their configuration for pandas"
   ]
  },
  {
   "cell_type": "code",
   "execution_count": 64,
   "metadata": {},
   "outputs": [],
   "source": [
    "cap_file_list = [\n",
    "    dict(path='{}01.dbf', skiprows=0, year=2001, sheetname=\"GENY01\", columns=['PLNTCODE', 'PLNTNAME', 'UTILNAME', 'UTILCODE', 'PLNTSTATE', 'GENCODE', 'NAMEPLATE', 'SUMMCAP']),\n",
    "    dict(path='{}02.dbf', skiprows=0, year=2002, sheetname=\"GENY02\", columns=['PLNTCODE', 'PLNTNAME', 'UTILNAME', 'UTILCODE', 'PLNTSTATE', 'GENCODE', 'NAMEPLATE', 'SUMMCAP']),\n",
    "    dict(path='{}03.dbf', skiprows=0, year=2003, sheetname=\"GENY03\", columns=['PLNTCODE', 'PLNTNAME', 'UTILNAME', 'UTILCODE', 'PLNTSTATE', 'GENCODE', 'NAMEPLATE', 'SUMMCAP']),\n",
    "    dict(path='GenY04.xls', skiprows=0, year=2004, sheetname=\"GenY04\", columns=['PLNTCODE', 'PLNTNAME', 'UTILNAME', 'UTILCODE', 'STATE', 'GENCODE', 'NAMEPLATE', 'SUMMCAP']),\n",
    "    dict(path='GenY05.xls', skiprows=0, year=2005, sheetname=\"GenY05\", columns=['PLNTCODE', 'PLNTNAME', 'UTILNAME', 'UTILCODE', 'STATE', 'GENCODE', 'NAMEPLATE', 'SUMMCAP']),\n",
    "    dict(path='GenY06.xls', skiprows=0, year=2006, sheetname=\"GenY06\", columns=['PLNTCODE', 'PLNTNAME', 'UTILNAME', 'UTILCODE', 'STATE', 'GENCODE', 'NAMEPLATE', 'SUMMCAP']),\n",
    "    dict(path='GenY07.xls', skiprows=0, year=2007, sheetname=\"GenY07\", columns=['PLNTCODE', 'PLNTNAME', 'UTILNAME', 'UTILCODE', 'STATE', 'GENCODE', 'NAMEPLATE', 'SUMMER_CAPACITY']),\n",
    "    dict(path='GenY08.xls', skiprows=0, year=2008, sheetname=\"GenY08\", columns=['PLNTCODE', 'PLNTNAME', 'UTILNAME', 'UTILCODE', 'STATE', 'GENCODE', 'NAMEPLATE', 'SUMMER_CAPABILITY']),\n",
    "    dict(path='GeneratorY09.xls', skiprows=0, year=2009, sheetname=\"Exist\", columns=[\"PLANT_CODE\", \"PLANT_NAME\", \"UTILITY_NAME\", \"UTILITY_ID\", 'STATE', \"GENERATOR_ID\", \"NAMEPLATE\", \"SUMMER_CAPABILITY\"]),\n",
    "    dict(path='GeneratorsY2010.xls', sheetname='Exist', skiprows=0, year=2010, columns=[\"PLANT_CODE\", \"PLANT_NAME\", \"UTILITY_NAME\", \"UTILITY_ID\", 'STATE', \"GENERATOR_ID\", \"NAMEPLATE\", \"SUMMER_CAPABILITY\"]),\n",
    "    dict(path='GeneratorY2011.xlsx', sheetname=\"operable\", year=2011, columns=[\"PLANT_CODE\", \"PLANT_NAME\", \"UTILITY_NAME\", \"UTILITY_ID\", 'STATE', \"GENERATOR_ID\", \"NAMEPLATE\", \"SUMMER_CAPABILITY\"]),\n",
    "    dict(path='GeneratorY2012.xlsx', year=2012, columns=[\"Plant Code\", 'Plant Name', 'Utility Name', 'Utility ID', 'State', 'Generator ID', 'Nameplate Capacity (MW)', 'Summer Capacity (MW)']),\n",
    "    dict(path='3_1_Generator_Y2013.xlsx', year=2013, columns=[\"Plant Code\", 'Plant Name', 'Utility Name', 'Utility ID', 'State', 'Generator ID', 'Nameplate Capacity (MW)', 'Summer Capacity (MW)']),\n",
    "    dict(path='3_1_Generator_Y2014.xlsx', year=2014, columns=[\"Plant Code\", 'Plant Name', 'Utility Name', 'Utility ID', 'State', 'Generator ID', 'Nameplate Capacity (MW)', 'Summer Capacity (MW)']),\n",
    "    dict(path='3_1_Generator_Y2015.xlsx', year=2015, columns=[\"Plant Code\", 'Plant Name', 'Utility Name', 'Utility ID', 'State', 'Generator ID', 'Nameplate Capacity (MW)', 'Summer Capacity (MW)']),\n",
    "]"
   ]
  },
  {
   "cell_type": "markdown",
   "metadata": {},
   "source": [
    "Combine files"
   ]
  },
  {
   "cell_type": "code",
   "execution_count": 65,
   "metadata": {},
   "outputs": [],
   "source": [
    "cap_columns = [\n",
    "    'plant_id',\n",
    "    'plant_name',\n",
    "    'operator_name',\n",
    "    'operator_id',\n",
    "    'state',\n",
    "    'generator_id',\n",
    "    'nameplate_mw',\n",
    "    'summer_mw',\n",
    "    'year'\n",
    "]"
   ]
  },
  {
   "cell_type": "code",
   "execution_count": 66,
   "metadata": {},
   "outputs": [],
   "source": [
    "def combine_capacity_dbfs(**kwargs):\n",
    "    \"\"\"\n",
    "    Combine a set of capacity DBF files.\n",
    "    \n",
    "    Returns a DataFrame.\n",
    "    \"\"\"\n",
    "    # Open all three DBFs\n",
    "    info_path = os.path.join(settings.input_dir, kwargs['path'].upper().format(\"PLANTY\"))\n",
    "    info_df = Dbf5(info_path).to_dataframe()\n",
    "\n",
    "    stat_path = os.path.join(settings.input_dir, kwargs['path'].format(\"GENY\"))\n",
    "    stat_df = Dbf5(stat_path).to_dataframe()\n",
    "    \n",
    "    owner_path = os.path.join(settings.input_dir, kwargs['path'].upper().format(\"UTILY\"))\n",
    "    owner_df = Dbf5(owner_path).to_dataframe()\n",
    "    \n",
    "    # Merge them together and pass it out                          \n",
    "    return pd.merge(pd.merge(info_df ,owner_df), stat_df)\n"
   ]
  },
  {
   "cell_type": "code",
   "execution_count": 67,
   "metadata": {},
   "outputs": [],
   "source": [
    "def standardize_capacity(**kwargs):\n",
    "    \"\"\"\n",
    "    Standardize a given capacity file to a common set of fields.\n",
    "    \n",
    "    Returns a DataFrame.\n",
    "    \"\"\"\n",
    "    # If it's a dbf file, open it using our special trick\n",
    "    if \"dbf\" in kwargs['path']:\n",
    "        df = combine_capacity_dbfs(**kwargs)\n",
    "    # Otherwise, assume it's Excel\n",
    "    else:\n",
    "        df = pd.read_excel(\n",
    "            os.path.join(settings.input_dir, kwargs['path']),\n",
    "            sheetname=kwargs.get(\"sheetname\", \"Operable\"),\n",
    "            skiprows=kwargs.get(\"skiprows\", 1)\n",
    "        )\n",
    "    \n",
    "    # Pluck the columns we want\n",
    "    trimmed_df = df[kwargs['columns']]\n",
    "\n",
    "    # Add the year of the source\n",
    "    trimmed_df['year'] = kwargs['year']\n",
    "    \n",
    "    # Clean up header names\n",
    "    trimmed_df.columns = cap_columns\n",
    "    \n",
    "    # Pass it back\n",
    "    return trimmed_df"
   ]
  },
  {
   "cell_type": "code",
   "execution_count": 68,
   "metadata": {},
   "outputs": [],
   "source": [
    "cap_df = pd.DataFrame(columns=cap_columns)"
   ]
  },
  {
   "cell_type": "code",
   "execution_count": 69,
   "metadata": {},
   "outputs": [
    {
     "name": "stdout",
     "output_type": "stream",
     "text": [
      "Standardizing 2001\n",
      "Standardizing 2002\n",
      "Standardizing 2003\n",
      "Standardizing 2004\n",
      "Standardizing 2005\n",
      "Standardizing 2006\n",
      "Standardizing 2007\n",
      "Standardizing 2008\n",
      "Standardizing 2009\n",
      "Standardizing 2010\n",
      "Standardizing 2011\n",
      "Standardizing 2012\n",
      "Standardizing 2013\n",
      "Standardizing 2014\n",
      "Standardizing 2015\n"
     ]
    }
   ],
   "source": [
    "for d in cap_file_list:\n",
    "    print \"Standardizing {}\".format(d['year'])\n",
    "    cap_df = cap_df.append(standardize_capacity(**d))"
   ]
  },
  {
   "cell_type": "markdown",
   "metadata": {},
   "source": [
    "Filling blanks"
   ]
  },
  {
   "cell_type": "code",
   "execution_count": 70,
   "metadata": {},
   "outputs": [],
   "source": [
    "cap_df['plant_name'].fillna(\"\", inplace=True)\n",
    "cap_df['operator_name'].fillna(\"\", inplace=True)\n",
    "cap_df['state'].fillna(\"\", inplace=True)\n",
    "cap_df['summer_mw'] = cap_df['summer_mw'].replace(\" \", 0.0).replace(\".\", 0.0).astype(float)"
   ]
  },
  {
   "cell_type": "markdown",
   "metadata": {},
   "source": [
    "Group to reduce file to one row per plant"
   ]
  },
  {
   "cell_type": "code",
   "execution_count": 73,
   "metadata": {},
   "outputs": [],
   "source": [
    "plant_cap_df = cap_df.groupby([\n",
    "    \"year\",\n",
    "    \"plant_id\",\n",
    "    'plant_name',\n",
    "    'operator_name',\n",
    "    \"operator_id\",\n",
    "    'state'\n",
    "])[['nameplate_mw', 'summer_mw',]].sum().reset_index()"
   ]
  },
  {
   "cell_type": "markdown",
   "metadata": {},
   "source": [
    "## Utilization"
   ]
  },
  {
   "cell_type": "markdown",
   "metadata": {},
   "source": [
    "Join the two tables"
   ]
  },
  {
   "cell_type": "code",
   "execution_count": 94,
   "metadata": {},
   "outputs": [],
   "source": [
    "utilization_df = pd.merge(\n",
    "    plant_gen_df,\n",
    "    plant_cap_df,\n",
    "    on=[\"year\", \"plant_id\"],\n",
    "    how='outer',\n",
    "    suffixes=['_gen','_cap']\n",
    ").sort_values('year')"
   ]
  },
  {
   "cell_type": "markdown",
   "metadata": {},
   "source": [
    "Convert the capacity value to the same units as the generation"
   ]
  },
  {
   "cell_type": "code",
   "execution_count": 95,
   "metadata": {},
   "outputs": [],
   "source": [
    "def convert_mw_to_mwh(mw):\n",
    "    \"\"\"\n",
    "    Accepts a Megawatts (MW) value and returns it converted to MegaWatt Hours (MWh)\n",
    "    \"\"\"\n",
    "    return mw * 8760.0"
   ]
  },
  {
   "cell_type": "code",
   "execution_count": 96,
   "metadata": {},
   "outputs": [],
   "source": [
    "utilization_df['capacity_mwh'] = convert_mw_to_mwh(utilization_df['summer_mw'])"
   ]
  },
  {
   "cell_type": "markdown",
   "metadata": {},
   "source": [
    "Calculate the percentage of each plant's capacity that was utilized"
   ]
  },
  {
   "cell_type": "code",
   "execution_count": 97,
   "metadata": {},
   "outputs": [],
   "source": [
    "utilization_df['capacity_utilization'] = utilization_df['net_generation_mwh'] / utilization_df['capacity_mwh']"
   ]
  },
  {
   "cell_type": "markdown",
   "metadata": {},
   "source": [
    "### Age"
   ]
  },
  {
   "cell_type": "markdown",
   "metadata": {},
   "source": [
    "Calculate the minimum operating year for any generator at every plant"
   ]
  },
  {
   "cell_type": "code",
   "execution_count": 98,
   "metadata": {},
   "outputs": [],
   "source": [
    "age_df = pd.read_excel(os.path.join(settings.input_dir, '3_1_Generator_Y2015.xlsx'), skiprows=1)"
   ]
  },
  {
   "cell_type": "code",
   "execution_count": 99,
   "metadata": {},
   "outputs": [],
   "source": [
    "age_df = age_df.groupby(\"Plant Code\")['Operating Year'].min().reset_index()"
   ]
  },
  {
   "cell_type": "markdown",
   "metadata": {},
   "source": [
    "Merge that with our utilization data frame"
   ]
  },
  {
   "cell_type": "code",
   "execution_count": 100,
   "metadata": {},
   "outputs": [],
   "source": [
    "utilization_df = utilization_df.merge(age_df, left_on=\"plant_id\", right_on=\"Plant Code\", how=\"left\")"
   ]
  },
  {
   "cell_type": "code",
   "execution_count": 101,
   "metadata": {},
   "outputs": [],
   "source": [
    "utilization_df.rename(columns={\"Operating Year\": \"minimum_year\"}, inplace=True)"
   ]
  },
  {
   "cell_type": "code",
   "execution_count": 102,
   "metadata": {},
   "outputs": [],
   "source": [
    "utilization_df.drop(\"Plant Code\", axis=1, inplace=True)"
   ]
  },
  {
   "cell_type": "markdown",
   "metadata": {},
   "source": [
    "### Export"
   ]
  },
  {
   "cell_type": "markdown",
   "metadata": {},
   "source": [
    "Write out a CSV"
   ]
  },
  {
   "cell_type": "code",
   "execution_count": 107,
   "metadata": {},
   "outputs": [],
   "source": [
    "utilization_df.to_csv(os.path.join(settings.output_dir, \"plants.csv\"), index=False)"
   ]
  },
  {
   "cell_type": "markdown",
   "metadata": {},
   "source": [
    "Trim it to California"
   ]
  },
  {
   "cell_type": "code",
   "execution_count": 108,
   "metadata": {},
   "outputs": [],
   "source": [
    "california_utilization_df = utilization_df[utilization_df.state == 'CA']"
   ]
  },
  {
   "cell_type": "code",
   "execution_count": 109,
   "metadata": {},
   "outputs": [],
   "source": [
    "california_utilization_df.to_csv(os.path.join(settings.output_dir, \"plants-california.csv\"), index=False)"
   ]
  }
 ],
 "metadata": {
  "kernelspec": {
   "display_name": "Python 2",
   "language": "python",
   "name": "python2"
  },
  "language_info": {
   "codemirror_mode": {
    "name": "ipython",
    "version": 2
   },
   "file_extension": ".py",
   "mimetype": "text/x-python",
   "name": "python",
   "nbconvert_exporter": "python",
   "pygments_lexer": "ipython2",
   "version": "2.7.12+"
  }
 },
 "nbformat": 4,
 "nbformat_minor": 2
}
