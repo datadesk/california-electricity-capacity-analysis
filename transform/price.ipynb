{
 "cells": [
  {
   "cell_type": "markdown",
   "metadata": {},
   "source": [
    "# Transforming price data\n",
    "\n",
    "Transforms the annual prices by state from the EIA"
   ]
  },
  {
   "cell_type": "code",
   "execution_count": 21,
   "metadata": {},
   "outputs": [],
   "source": [
    "import os\n",
    "import settings\n",
    "import pandas as pd\n",
    "from cpi import to_2015_dollars"
   ]
  },
  {
   "cell_type": "markdown",
   "metadata": {},
   "source": [
    "Read in the source Excel file"
   ]
  },
  {
   "cell_type": "code",
   "execution_count": 14,
   "metadata": {},
   "outputs": [],
   "source": [
    "df = pd.read_excel(\n",
    "    os.path.join(settings.input_dir, \"avgprice_annual.xlsx\"),\n",
    "    skiprows=1\n",
    ")"
   ]
  },
  {
   "cell_type": "markdown",
   "metadata": {},
   "source": [
    "Filter it down to totals from California and the nation"
   ]
  },
  {
   "cell_type": "code",
   "execution_count": 17,
   "metadata": {},
   "outputs": [],
   "source": [
    "california_vs_usa_df = df[\n",
    "    df['State'].isin([\"CA\", \"US\"]) &\n",
    "    (df['Industry Sector Category'] == 'Total Electric Industry')\n",
    "].sort_values([\"State\", \"Year\"])"
   ]
  },
  {
   "cell_type": "markdown",
   "metadata": {},
   "source": [
    "Adjust dollars for inflation to 2015 value using the Consumer Price Index"
   ]
  },
  {
   "cell_type": "code",
   "execution_count": 24,
   "metadata": {},
   "outputs": [],
   "source": [
    "california_vs_usa_df['Total (2015 dollars)'] = california_vs_usa_df.apply(\n",
    "    lambda x: to_2015_dollars(x['Total'], str(int(x['Year']))),\n",
    "    axis=1\n",
    ")"
   ]
  },
  {
   "cell_type": "markdown",
   "metadata": {},
   "source": [
    "Export the result as a CSV file"
   ]
  },
  {
   "cell_type": "code",
   "execution_count": 26,
   "metadata": {},
   "outputs": [],
   "source": [
    "california_vs_usa_df.to_csv(os.path.join(settings.output_dir, \"annual-price-california-vs-usa.csv\"), index=False)"
   ]
  }
 ],
 "metadata": {
  "kernelspec": {
   "display_name": "Python 2",
   "language": "python",
   "name": "python2"
  },
  "language_info": {
   "codemirror_mode": {
    "name": "ipython",
    "version": 2
   },
   "file_extension": ".py",
   "mimetype": "text/x-python",
   "name": "python",
   "nbconvert_exporter": "python",
   "pygments_lexer": "ipython2",
   "version": "2.7.12+"
  }
 },
 "nbformat": 4,
 "nbformat_minor": 2
}
