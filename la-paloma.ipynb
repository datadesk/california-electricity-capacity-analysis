{
 "cells": [
  {
   "cell_type": "markdown",
   "metadata": {},
   "source": [
    "# La Paloma power generation analysis\n",
    "\n",
    "By [Ben Welsh](mailto:ben.welsh@latimes.com) and [Ryan Menezes](mailto:ryan.menezes@latimes.com)"
   ]
  },
  {
   "cell_type": "markdown",
   "metadata": {},
   "source": [
    "A June 9, 2017 story in the Los Angeles Times titled [\"Foo bar\"]() examined the decline in production at the La Paloma natural-gas power plant near Bakersfield. The data are drawn from [a past Times analysis](analysis.ipynb) of federal data. "
   ]
  },
  {
   "cell_type": "code",
   "execution_count": 37,
   "metadata": {
    "collapsed": true
   },
   "outputs": [],
   "source": [
    "import os\n",
    "import pandas as pd"
   ]
  },
  {
   "cell_type": "code",
   "execution_count": 38,
   "metadata": {
    "collapsed": true
   },
   "outputs": [],
   "source": [
    "%matplotlib inline"
   ]
  },
  {
   "cell_type": "code",
   "execution_count": 39,
   "metadata": {},
   "outputs": [],
   "source": [
    "pd.options.display.float_format = \"{:,.2f}\".format"
   ]
  },
  {
   "cell_type": "code",
   "execution_count": 40,
   "metadata": {
    "collapsed": true
   },
   "outputs": [],
   "source": [
    "data_dir = os.path.join(os.getcwd(), 'data', 'output')"
   ]
  },
  {
   "cell_type": "markdown",
   "metadata": {},
   "source": [
    "### Read in data from our previous analysis"
   ]
  },
  {
   "cell_type": "code",
   "execution_count": 41,
   "metadata": {},
   "outputs": [],
   "source": [
    "latimes_df = pd.read_csv(\n",
    "    os.path.join(data_dir, \"plants-california.csv\"),\n",
    ")"
   ]
  },
  {
   "cell_type": "code",
   "execution_count": 42,
   "metadata": {},
   "outputs": [],
   "source": [
    "trimmed_latimes_columns = [\n",
    "    'plant_id',\n",
    "    'plant_name_gen',\n",
    "    'year',\n",
    "    'net_generation_mwh',\n",
    "    'capacity_mwh',\n",
    "    'capacity_utilization'\n",
    "]"
   ]
  },
  {
   "cell_type": "code",
   "execution_count": 43,
   "metadata": {},
   "outputs": [],
   "source": [
    "trimmed_latimes_df = latimes_df[trimmed_latimes_columns]"
   ]
  },
  {
   "cell_type": "markdown",
   "metadata": {},
   "source": [
    "### Finding: La Paloma is the state's 2nd most productive power plant over the past decade "
   ]
  },
  {
   "cell_type": "code",
   "execution_count": 44,
   "metadata": {},
   "outputs": [
    {
     "data": {
      "text/html": [
       "<div>\n",
       "<table border=\"1\" class=\"dataframe\">\n",
       "  <thead>\n",
       "    <tr style=\"text-align: right;\">\n",
       "      <th></th>\n",
       "      <th>plant_id</th>\n",
       "      <th>plant_name_gen</th>\n",
       "      <th>net_generation_mwh</th>\n",
       "    </tr>\n",
       "  </thead>\n",
       "  <tbody>\n",
       "    <tr>\n",
       "      <th>239</th>\n",
       "      <td>6,099.00</td>\n",
       "      <td>Diablo Canyon</td>\n",
       "      <td>178,547,139.00</td>\n",
       "    </tr>\n",
       "    <tr>\n",
       "      <th>695</th>\n",
       "      <td>55,151.00</td>\n",
       "      <td>La Paloma Generating LLC</td>\n",
       "      <td>54,465,060.00</td>\n",
       "    </tr>\n",
       "    <tr>\n",
       "      <th>49</th>\n",
       "      <td>260.00</td>\n",
       "      <td>Dynegy Moss Landing Power Plant</td>\n",
       "      <td>49,206,313.00</td>\n",
       "    </tr>\n",
       "    <tr>\n",
       "      <th>706</th>\n",
       "      <td>55,333.00</td>\n",
       "      <td>Delta Energy Center</td>\n",
       "      <td>49,095,193.00</td>\n",
       "    </tr>\n",
       "    <tr>\n",
       "      <th>128</th>\n",
       "      <td>360.00</td>\n",
       "      <td>San Onofre Nuclear Generating Station</td>\n",
       "      <td>48,054,769.00</td>\n",
       "    </tr>\n",
       "    <tr>\n",
       "      <th>74</th>\n",
       "      <td>286.00</td>\n",
       "      <td>Geysers Unit 5-20</td>\n",
       "      <td>46,922,933.00</td>\n",
       "    </tr>\n",
       "    <tr>\n",
       "      <th>127</th>\n",
       "      <td>360.00</td>\n",
       "      <td>San Onofre</td>\n",
       "      <td>46,270,572.00</td>\n",
       "    </tr>\n",
       "    <tr>\n",
       "      <th>718</th>\n",
       "      <td>55,518.00</td>\n",
       "      <td>High Desert Power Plant</td>\n",
       "      <td>39,775,484.00</td>\n",
       "    </tr>\n",
       "    <tr>\n",
       "      <th>156</th>\n",
       "      <td>400.00</td>\n",
       "      <td>Haynes</td>\n",
       "      <td>36,762,820.00</td>\n",
       "    </tr>\n",
       "    <tr>\n",
       "      <th>711</th>\n",
       "      <td>55,400.00</td>\n",
       "      <td>Elk Hills Power LLC</td>\n",
       "      <td>36,470,168.00</td>\n",
       "    </tr>\n",
       "  </tbody>\n",
       "</table>\n",
       "</div>"
      ],
      "text/plain": [
       "     plant_id                         plant_name_gen  net_generation_mwh\n",
       "239  6,099.00                          Diablo Canyon      178,547,139.00\n",
       "695 55,151.00               La Paloma Generating LLC       54,465,060.00\n",
       "49     260.00        Dynegy Moss Landing Power Plant       49,206,313.00\n",
       "706 55,333.00                    Delta Energy Center       49,095,193.00\n",
       "128    360.00  San Onofre Nuclear Generating Station       48,054,769.00\n",
       "74     286.00                      Geysers Unit 5-20       46,922,933.00\n",
       "127    360.00                             San Onofre       46,270,572.00\n",
       "718 55,518.00                High Desert Power Plant       39,775,484.00\n",
       "156    400.00                                 Haynes       36,762,820.00\n",
       "711 55,400.00                    Elk Hills Power LLC       36,470,168.00"
      ]
     },
     "execution_count": 44,
     "metadata": {},
     "output_type": "execute_result"
    }
   ],
   "source": [
    "trimmed_latimes_df[\n",
    "    (trimmed_latimes_df.year > 2005)\n",
    "].groupby([\n",
    "    'plant_id',\n",
    "    'plant_name_gen'\n",
    "]).net_generation_mwh.sum().reset_index().sort_values(\n",
    "    \"net_generation_mwh\",\n",
    "    ascending=False\n",
    ").head(10)"
   ]
  },
  {
   "cell_type": "markdown",
   "metadata": {},
   "source": [
    "### Finding: La Paloma's production has declined in recent years"
   ]
  },
  {
   "cell_type": "markdown",
   "metadata": {},
   "source": [
    "Since our previous analysis did not include 2016 generation totals, we will need to read those in from the EIA"
   ]
  },
  {
   "cell_type": "code",
   "execution_count": 45,
   "metadata": {},
   "outputs": [],
   "source": [
    "eia_df = pd.read_excel(\n",
    "    \"data/input/EIA923_Schedules_2_3_4_5_M_12_2016.xlsx\",\n",
    "    sheetname='Page 1 Generation and Fuel Data',\n",
    "    skiprows=5\n",
    ")"
   ]
  },
  {
   "cell_type": "code",
   "execution_count": 46,
   "metadata": {},
   "outputs": [],
   "source": [
    "trimmed_eia_columns = [\n",
    "    'Plant Id',\n",
    "    'Plant Name',\n",
    "    'Plant State',\n",
    "    'Net Generation\\n(Megawatthours)'\n",
    "]"
   ]
  },
  {
   "cell_type": "code",
   "execution_count": 47,
   "metadata": {},
   "outputs": [],
   "source": [
    "trimmed_eia = eia_df[trimmed_eia_columns]"
   ]
  },
  {
   "cell_type": "code",
   "execution_count": 48,
   "metadata": {},
   "outputs": [],
   "source": [
    "trimmed_eia.columns = ['id', 'name', 'state', 'net_generation_mwh']"
   ]
  },
  {
   "cell_type": "code",
   "execution_count": 49,
   "metadata": {},
   "outputs": [],
   "source": [
    "california_2016 = trimmed_eia[trimmed_eia.state == 'CA']"
   ]
  },
  {
   "cell_type": "code",
   "execution_count": 50,
   "metadata": {},
   "outputs": [],
   "source": [
    "ranker_2016 = california_2016.groupby([\"id\", \"name\"]).net_generation_mwh.sum().reset_index()"
   ]
  },
  {
   "cell_type": "markdown",
   "metadata": {},
   "source": [
    "Now filter down to only La Paloma from our existing data"
   ]
  },
  {
   "cell_type": "code",
   "execution_count": 51,
   "metadata": {},
   "outputs": [],
   "source": [
    "la_paloma = trimmed_latimes_df[trimmed_latimes_df.plant_id == 55151]"
   ]
  },
  {
   "cell_type": "code",
   "execution_count": 52,
   "metadata": {},
   "outputs": [],
   "source": [
    "trimmed_la_paloma = la_paloma.drop(['plant_id', 'plant_name_gen'], axis=1)"
   ]
  },
  {
   "cell_type": "markdown",
   "metadata": {},
   "source": [
    "Then append the 2016 generation value along with its utilization"
   ]
  },
  {
   "cell_type": "code",
   "execution_count": 53,
   "metadata": {},
   "outputs": [],
   "source": [
    "la_paloma_2016_gen = ranker_2016.set_index(\"id\").at[55151, 'net_generation_mwh']"
   ]
  },
  {
   "cell_type": "code",
   "execution_count": 54,
   "metadata": {},
   "outputs": [],
   "source": [
    "la_paloma_2016_cap = trimmed_la_paloma.set_index(\"year\").at[2015.0, 'capacity_mwh']"
   ]
  },
  {
   "cell_type": "code",
   "execution_count": 55,
   "metadata": {},
   "outputs": [],
   "source": [
    "la_paloma_2016_util = la_paloma_2016_gen / la_paloma_2016_cap"
   ]
  },
  {
   "cell_type": "code",
   "execution_count": 56,
   "metadata": {},
   "outputs": [],
   "source": [
    "la_paloma_2016_df = pd.DataFrame([[\n",
    "    2016.0,\n",
    "    la_paloma_2016_gen,\n",
    "    la_paloma_2016_cap,\n",
    "    la_paloma_2016_util\n",
    "]], columns=trimmed_la_paloma.columns)"
   ]
  },
  {
   "cell_type": "code",
   "execution_count": 57,
   "metadata": {},
   "outputs": [],
   "source": [
    "combined_la_paloma = trimmed_la_paloma.append(la_paloma_2016_df)"
   ]
  },
  {
   "cell_type": "markdown",
   "metadata": {},
   "source": [
    "Now examine the combined result"
   ]
  },
  {
   "cell_type": "code",
   "execution_count": 58,
   "metadata": {},
   "outputs": [
    {
     "data": {
      "text/html": [
       "<div>\n",
       "<table border=\"1\" class=\"dataframe\">\n",
       "  <thead>\n",
       "    <tr style=\"text-align: right;\">\n",
       "      <th></th>\n",
       "      <th>year</th>\n",
       "      <th>net_generation_mwh</th>\n",
       "      <th>capacity_mwh</th>\n",
       "      <th>capacity_utilization</th>\n",
       "    </tr>\n",
       "  </thead>\n",
       "  <tbody>\n",
       "    <tr>\n",
       "      <th>8908</th>\n",
       "      <td>2,012.00</td>\n",
       "      <td>5,471,800.00</td>\n",
       "      <td>8,456,904.00</td>\n",
       "      <td>0.65</td>\n",
       "    </tr>\n",
       "    <tr>\n",
       "      <th>9913</th>\n",
       "      <td>2,013.00</td>\n",
       "      <td>6,570,936.00</td>\n",
       "      <td>8,456,904.00</td>\n",
       "      <td>0.78</td>\n",
       "    </tr>\n",
       "    <tr>\n",
       "      <th>11375</th>\n",
       "      <td>2,014.00</td>\n",
       "      <td>6,558,024.00</td>\n",
       "      <td>8,456,904.00</td>\n",
       "      <td>0.78</td>\n",
       "    </tr>\n",
       "    <tr>\n",
       "      <th>12622</th>\n",
       "      <td>2,015.00</td>\n",
       "      <td>5,342,223.00</td>\n",
       "      <td>8,456,904.00</td>\n",
       "      <td>0.63</td>\n",
       "    </tr>\n",
       "    <tr>\n",
       "      <th>0</th>\n",
       "      <td>2,016.00</td>\n",
       "      <td>4,236,172.00</td>\n",
       "      <td>8,456,904.00</td>\n",
       "      <td>0.50</td>\n",
       "    </tr>\n",
       "  </tbody>\n",
       "</table>\n",
       "</div>"
      ],
      "text/plain": [
       "          year  net_generation_mwh  capacity_mwh  capacity_utilization\n",
       "8908  2,012.00        5,471,800.00  8,456,904.00                  0.65\n",
       "9913  2,013.00        6,570,936.00  8,456,904.00                  0.78\n",
       "11375 2,014.00        6,558,024.00  8,456,904.00                  0.78\n",
       "12622 2,015.00        5,342,223.00  8,456,904.00                  0.63\n",
       "0     2,016.00        4,236,172.00  8,456,904.00                  0.50"
      ]
     },
     "execution_count": 58,
     "metadata": {},
     "output_type": "execute_result"
    }
   ],
   "source": [
    "combined_la_paloma.tail(5)"
   ]
  },
  {
   "cell_type": "code",
   "execution_count": 59,
   "metadata": {
    "scrolled": true
   },
   "outputs": [
    {
     "data": {
      "text/plain": [
       "<matplotlib.axes._subplots.AxesSubplot at 0x7f7bc16f1c50>"
      ]
     },
     "execution_count": 59,
     "metadata": {},
     "output_type": "execute_result"
    },
    {
     "data": {
      "image/png": "[encoded data removed]",
      "text/plain": [
       "<matplotlib.figure.Figure at 0x7f7bc1f0a2d0>"
      ]
     },
     "metadata": {},
     "output_type": "display_data"
    }
   ],
   "source": [
    "combined_la_paloma.tail(5).capacity_utilization.plot.bar()"
   ]
  },
  {
   "cell_type": "markdown",
   "metadata": {},
   "source": [
    "### Finding: Due to it's declining business, La Paloma fell in the state production ranking last year"
   ]
  },
  {
   "cell_type": "code",
   "execution_count": 36,
   "metadata": {},
   "outputs": [
    {
     "data": {
      "text/html": [
       "<div>\n",
       "<table border=\"1\" class=\"dataframe\">\n",
       "  <thead>\n",
       "    <tr style=\"text-align: right;\">\n",
       "      <th></th>\n",
       "      <th>id</th>\n",
       "      <th>name</th>\n",
       "      <th>net_generation_mwh</th>\n",
       "    </tr>\n",
       "  </thead>\n",
       "  <tbody>\n",
       "    <tr>\n",
       "      <th>65</th>\n",
       "      <td>6099</td>\n",
       "      <td>Diablo Canyon</td>\n",
       "      <td>18,907,578.00</td>\n",
       "    </tr>\n",
       "    <tr>\n",
       "      <th>32</th>\n",
       "      <td>358</td>\n",
       "      <td>Mountainview Generating Station</td>\n",
       "      <td>4,890,772.00</td>\n",
       "    </tr>\n",
       "    <tr>\n",
       "      <th>18</th>\n",
       "      <td>286</td>\n",
       "      <td>Geysers Unit 5-20</td>\n",
       "      <td>4,628,971.00</td>\n",
       "    </tr>\n",
       "    <tr>\n",
       "      <th>137</th>\n",
       "      <td>55656</td>\n",
       "      <td>Pastoria Energy Facility, LLC</td>\n",
       "      <td>4,365,684.00</td>\n",
       "    </tr>\n",
       "    <tr>\n",
       "      <th>128</th>\n",
       "      <td>55151</td>\n",
       "      <td>La Paloma Generating LLC</td>\n",
       "      <td>4,236,172.00</td>\n",
       "    </tr>\n",
       "    <tr>\n",
       "      <th>140</th>\n",
       "      <td>55970</td>\n",
       "      <td>Cosumnes</td>\n",
       "      <td>3,859,086.00</td>\n",
       "    </tr>\n",
       "    <tr>\n",
       "      <th>132</th>\n",
       "      <td>55333</td>\n",
       "      <td>Delta Energy Center</td>\n",
       "      <td>3,819,440.00</td>\n",
       "    </tr>\n",
       "    <tr>\n",
       "      <th>129</th>\n",
       "      <td>55182</td>\n",
       "      <td>Sunrise Power LLC</td>\n",
       "      <td>3,517,950.00</td>\n",
       "    </tr>\n",
       "    <tr>\n",
       "      <th>135</th>\n",
       "      <td>55400</td>\n",
       "      <td>Elk Hills Power LLC</td>\n",
       "      <td>3,442,847.00</td>\n",
       "    </tr>\n",
       "    <tr>\n",
       "      <th>40</th>\n",
       "      <td>400</td>\n",
       "      <td>Haynes</td>\n",
       "      <td>3,368,110.00</td>\n",
       "    </tr>\n",
       "  </tbody>\n",
       "</table>\n",
       "</div>"
      ],
      "text/plain": [
       "        id                             name  net_generation_mwh\n",
       "65    6099                    Diablo Canyon       18,907,578.00\n",
       "32     358  Mountainview Generating Station        4,890,772.00\n",
       "18     286                Geysers Unit 5-20        4,628,971.00\n",
       "137  55656    Pastoria Energy Facility, LLC        4,365,684.00\n",
       "128  55151         La Paloma Generating LLC        4,236,172.00\n",
       "140  55970                         Cosumnes        3,859,086.00\n",
       "132  55333              Delta Energy Center        3,819,440.00\n",
       "129  55182                Sunrise Power LLC        3,517,950.00\n",
       "135  55400              Elk Hills Power LLC        3,442,847.00\n",
       "40     400                           Haynes        3,368,110.00"
      ]
     },
     "execution_count": 36,
     "metadata": {},
     "output_type": "execute_result"
    }
   ],
   "source": [
    "ranker_2016.sort_values(\"net_generation_mwh\", ascending=False).head(11).tail(10)"
   ]
  }
 ],
 "metadata": {
  "kernelspec": {
   "display_name": "Python 2",
   "language": "python",
   "name": "python2"
  },
  "language_info": {
   "codemirror_mode": {
    "name": "ipython",
    "version": 2
   },
   "file_extension": ".py",
   "mimetype": "text/x-python",
   "name": "python",
   "nbconvert_exporter": "python",
   "pygments_lexer": "ipython2",
   "version": "2.7.12+"
  }
 },
 "nbformat": 4,
 "nbformat_minor": 2
}
